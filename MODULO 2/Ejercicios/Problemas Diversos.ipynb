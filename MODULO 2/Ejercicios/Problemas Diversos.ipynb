{
 "cells": [
  {
   "cell_type": "markdown",
   "metadata": {},
   "source": [
    "# PROBLEMAS DIVERSOS"
   ]
  },
  {
   "cell_type": "markdown",
   "metadata": {},
   "source": [
    "<h3>1.</h3>\n",
    "Realizar una función que permita la carga de n alumnos. Por cada alumno se deberá preguntar el nombre completo y permitir el ingreso de 3 notas. Las notas deben estar comprendidas entre 0 y 10. Devolver el listado de alumnos."
   ]
  },
  {
   "cell_type": "code",
   "execution_count": 2,
   "metadata": {},
   "outputs": [],
   "source": [
    "def lista_alumnos(num_alumnos):\n",
    "    alumnos=[]\n",
    "    for n in range(num_alumnos):\n",
    "        alumno = {}\n",
    "        \n",
    "        alumno['Nombre'] = input('Ingrese el nombre completo')\n",
    "        alumno['Nota1'] = float(input('Ingrese nota 1'))\n",
    "        alumno['Nota2'] = float(input('Ingrese nota 2'))\n",
    "        alumno['Nota3'] = float(input('Ingrese nota 3'))\n",
    "        \n",
    "        alumnos.append(alumno)\n",
    "    return alumnos"
   ]
  },
  {
   "cell_type": "code",
   "execution_count": 1,
   "metadata": {},
   "outputs": [
    {
     "name": "stdin",
     "output_type": "stream",
     "text": [
      "Introduce la cantidad de alumnos:  3\n"
     ]
    }
   ],
   "source": [
    "num_alumnos = int(input('Introduce la cantidad de alumnos: '))"
   ]
  },
  {
   "cell_type": "code",
   "execution_count": 3,
   "metadata": {},
   "outputs": [
    {
     "name": "stdin",
     "output_type": "stream",
     "text": [
      "Ingrese el nombre completo Gonzalo\n",
      "Ingrese nota 1 14\n",
      "Ingrese nota 2 12\n",
      "Ingrese nota 3 15\n",
      "Ingrese el nombre completo Juan\n",
      "Ingrese nota 1 02\n",
      "Ingrese nota 2 08\n",
      "Ingrese nota 3 09\n",
      "Ingrese el nombre completo Maria\n",
      "Ingrese nota 1 14\n",
      "Ingrese nota 2 11\n",
      "Ingrese nota 3 10\n"
     ]
    },
    {
     "data": {
      "text/plain": [
       "[{'Nombre': 'Gonzalo', 'Nota1': 14.0, 'Nota2': 12.0, 'Nota3': 15.0},\n",
       " {'Nombre': 'Juan', 'Nota1': 2.0, 'Nota2': 8.0, 'Nota3': 9.0},\n",
       " {'Nombre': 'Maria', 'Nota1': 14.0, 'Nota2': 11.0, 'Nota3': 10.0}]"
      ]
     },
     "execution_count": 3,
     "metadata": {},
     "output_type": "execute_result"
    }
   ],
   "source": [
    "list_alumnos = lista_alumnos(num_alumnos)"
   ]
  },
  {
   "cell_type": "code",
   "execution_count": null,
   "metadata": {},
   "outputs": [],
   "source": [
    "alumno = {}"
   ]
  },
  {
   "cell_type": "code",
   "execution_count": null,
   "metadata": {},
   "outputs": [],
   "source": []
  },
  {
   "cell_type": "markdown",
   "metadata": {},
   "source": [
    "### 2.\n",
    "Definir una función que dado un listado de alumnos evalúe cuántos aprobaron y cuántos desaprobaron, teniendo en cuenta que se aprueba con 4. La nota será el promedio de las 3 notas para cada alumno."
   ]
  },
  {
   "cell_type": "code",
   "execution_count": 3,
   "metadata": {},
   "outputs": [],
   "source": [
    "en Visual Estudio CODE"
   ]
  },
  {
   "cell_type": "code",
   "execution_count": 45,
   "metadata": {},
   "outputs": [
    {
     "name": "stdin",
     "output_type": "stream",
     "text": [
      "Dime tu promedio de tus 3 notas:  3\n"
     ]
    },
    {
     "name": "stdout",
     "output_type": "stream",
     "text": [
      "Desaprobado\n"
     ]
    }
   ],
   "source": [
    "# Al escanear se devuelve como cadena\n",
    "promedio_como_cadena = input(\"Dime tu promedio de tus 3 notas: \")\n",
    "# Convertir a float\n",
    "promedio = float(promedio_como_cadena)\n",
    "\n",
    "# Hacer la comparación\n",
    "if promedio >= 4:\n",
    "    print(\"Aprobado\")\n",
    "else:\n",
    "    print(\"Desaprobado\")"
   ]
  },
  {
   "cell_type": "markdown",
   "metadata": {},
   "source": [
    "### 3.\n",
    "Informar el promedio de nota del curso total."
   ]
  },
  {
   "cell_type": "code",
   "execution_count": 13,
   "metadata": {},
   "outputs": [
    {
     "name": "stdout",
     "output_type": "stream",
     "text": [
      "Escriba las 3 notas: \n"
     ]
    },
    {
     "name": "stdin",
     "output_type": "stream",
     "text": [
      "Nota1  14\n",
      "Nota2  12\n",
      "Nota3  15\n"
     ]
    },
    {
     "name": "stdout",
     "output_type": "stream",
     "text": [
      "Promedio de la nota del curso total: \n"
     ]
    },
    {
     "data": {
      "text/plain": [
       "(None, 13.666666666666666)"
      ]
     },
     "execution_count": 13,
     "metadata": {},
     "output_type": "execute_result"
    }
   ],
   "source": [
    "print(\"Escriba las 3 notas: \")\n",
    "\n",
    "nota1 = float(input('Nota1 '))\n",
    "nota2 = float(input('Nota2 '))\n",
    "nota3 = float(input('Nota3 '))\n",
    "\n",
    "total= (nota1 + nota2 +nota3)/3\n",
    "print (\"Promedio de la nota del curso total: \"),total\n"
   ]
  },
  {
   "cell_type": "code",
   "execution_count": 30,
   "metadata": {},
   "outputs": [
    {
     "name": "stdout",
     "output_type": "stream",
     "text": [
      "Escriba las 3 notas: \n"
     ]
    },
    {
     "name": "stdin",
     "output_type": "stream",
     "text": [
      "Nota1  2\n",
      "Nota2  8\n",
      "Nota3  9\n"
     ]
    },
    {
     "name": "stdout",
     "output_type": "stream",
     "text": [
      "Promedio de la nota del curso total: \n"
     ]
    },
    {
     "data": {
      "text/plain": [
       "(None, 6.333333333333333)"
      ]
     },
     "execution_count": 30,
     "metadata": {},
     "output_type": "execute_result"
    }
   ],
   "source": [
    "print(\"Escriba las 3 notas: \")\n",
    "\n",
    "nota1 = float(input('Nota1 '))\n",
    "nota2 = float(input('Nota2 '))\n",
    "nota3 = float(input('Nota3 '))\n",
    "\n",
    "total= (nota1 + nota2 +nota3)/3\n",
    "print (\"Promedio de la nota del curso total: \"),total\n"
   ]
  },
  {
   "cell_type": "code",
   "execution_count": 31,
   "metadata": {},
   "outputs": [
    {
     "name": "stdout",
     "output_type": "stream",
     "text": [
      "Escriba las 3 notas: \n"
     ]
    },
    {
     "name": "stdin",
     "output_type": "stream",
     "text": [
      "Nota1  14\n",
      "Nota2  11\n",
      "Nota3  10\n"
     ]
    },
    {
     "name": "stdout",
     "output_type": "stream",
     "text": [
      "Promedio de la nota del curso total: \n"
     ]
    },
    {
     "data": {
      "text/plain": [
       "(None, 11.666666666666666)"
      ]
     },
     "execution_count": 31,
     "metadata": {},
     "output_type": "execute_result"
    }
   ],
   "source": [
    "print(\"Escriba las 3 notas: \")\n",
    "\n",
    "nota1 = float(input('Nota1 '))\n",
    "nota2 = float(input('Nota2 '))\n",
    "nota3 = float(input('Nota3 '))\n",
    "\n",
    "total= (nota1 + nota2 +nota3)/3\n",
    "print (\"Promedio de la nota del curso total: \"),total\n"
   ]
  },
  {
   "cell_type": "markdown",
   "metadata": {},
   "source": [
    "### 4.\n",
    "Realizar una función que indique quién tuvo el promedio más alto y quién tuvo la nota promedio más baja."
   ]
  },
  {
   "cell_type": "code",
   "execution_count": 38,
   "metadata": {},
   "outputs": [
    {
     "name": "stdout",
     "output_type": "stream",
     "text": [
      "Las notas más altas son: [14, 12, 15]\n",
      "Las notas más bajas son: [2, 8, 9]\n"
     ]
    }
   ],
   "source": [
    "NotasGonzalo=[14,12,15]\n",
    "NotasJuan=[2,8,9]\n",
    "NotasMaria=[14,11,10]\n",
    "\n",
    "maximo=max(NotasGonzalo,NotasJuan,NotasMaria)\n",
    "minimo=min(NotasGonzalo,NotasJuan,NotasMaria)\n",
    "print(\"Las notas más altas son: %s\" % maximo)\n",
    "print(\"Las notas más bajas son: %s\" % minimo)"
   ]
  },
  {
   "cell_type": "code",
   "execution_count": 44,
   "metadata": {},
   "outputs": [
    {
     "name": "stdout",
     "output_type": "stream",
     "text": [
      "Escriba las 3 notas más altas: \n"
     ]
    },
    {
     "name": "stdin",
     "output_type": "stream",
     "text": [
      "Nota1  14\n",
      "Nota2  12\n",
      "Nota3  15\n"
     ]
    },
    {
     "name": "stdout",
     "output_type": "stream",
     "text": [
      "Promedio de la nota más alta: \n"
     ]
    },
    {
     "data": {
      "text/plain": [
       "(None, 13.666666666666666)"
      ]
     },
     "execution_count": 44,
     "metadata": {},
     "output_type": "execute_result"
    }
   ],
   "source": [
    "print(\"Escriba las 3 notas más altas: \")\n",
    "\n",
    "nota1 = float(input('Nota1 '))\n",
    "nota2 = float(input('Nota2 '))\n",
    "nota3 = float(input('Nota3 '))\n",
    "\n",
    "total= (nota1 + nota2 +nota3)/3\n",
    "print (\"Promedio de la nota más alta: \"),total\n"
   ]
  },
  {
   "cell_type": "code",
   "execution_count": 40,
   "metadata": {},
   "outputs": [
    {
     "name": "stdout",
     "output_type": "stream",
     "text": [
      "Escriba las 3 notas más bajas: \n"
     ]
    },
    {
     "name": "stdin",
     "output_type": "stream",
     "text": [
      "Nota1  2\n",
      "Nota2  8\n",
      "Nota3  9\n"
     ]
    },
    {
     "name": "stdout",
     "output_type": "stream",
     "text": [
      "Promedio de la nota más baja: \n"
     ]
    },
    {
     "data": {
      "text/plain": [
       "(None, 6.333333333333333)"
      ]
     },
     "execution_count": 40,
     "metadata": {},
     "output_type": "execute_result"
    }
   ],
   "source": [
    "print(\"Escriba las 3 notas más bajas: \")\n",
    "\n",
    "nota1 = float(input('Nota1 '))\n",
    "nota2 = float(input('Nota2 '))\n",
    "nota3 = float(input('Nota3 '))\n",
    "\n",
    "total= (nota1 + nota2 +nota3)/3\n",
    "print (\"Promedio de la nota más baja: \"),total"
   ]
  },
  {
   "cell_type": "code",
   "execution_count": null,
   "metadata": {},
   "outputs": [],
   "source": []
  },
  {
   "cell_type": "markdown",
   "metadata": {},
   "source": [
    "### 5.\n",
    "Realizar una función que permita buscar un alumno por nombre, siendo el nombre completo o parcial, y devuelva una lista con los n alumnos que concuerden con ese nombre junto con todos sus datos, incluido el promedio de sus notas."
   ]
  },
  {
   "cell_type": "code",
   "execution_count": 26,
   "metadata": {
    "collapsed": true,
    "jupyter": {
     "outputs_hidden": true
    }
   },
   "outputs": [
    {
     "ename": "SyntaxError",
     "evalue": "invalid syntax (<ipython-input-26-caa5af97accb>, line 1)",
     "output_type": "error",
     "traceback": [
      "\u001b[1;36m  File \u001b[1;32m\"<ipython-input-26-caa5af97accb>\"\u001b[1;36m, line \u001b[1;32m1\u001b[0m\n\u001b[1;33m    print f(\"Desea calcular mas promedios (si/no)? \")\u001b[0m\n\u001b[1;37m          ^\u001b[0m\n\u001b[1;31mSyntaxError\u001b[0m\u001b[1;31m:\u001b[0m invalid syntax\n"
     ]
    }
   ],
   "source": [
    "en Visual Estudio CODE"
   ]
  },
  {
   "cell_type": "code",
   "execution_count": null,
   "metadata": {},
   "outputs": [],
   "source": []
  }
 ],
 "metadata": {
  "kernelspec": {
   "display_name": "Python 3",
   "language": "python",
   "name": "python3"
  },
  "language_info": {
   "codemirror_mode": {
    "name": "ipython",
    "version": 3
   },
   "file_extension": ".py",
   "mimetype": "text/x-python",
   "name": "python",
   "nbconvert_exporter": "python",
   "pygments_lexer": "ipython3",
   "version": "3.8.5"
  }
 },
 "nbformat": 4,
 "nbformat_minor": 4
}
